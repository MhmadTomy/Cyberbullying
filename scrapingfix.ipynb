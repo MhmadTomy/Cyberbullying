{
  "nbformat": 4,
  "nbformat_minor": 0,
  "metadata": {
    "colab": {
      "name": "scrapingfix.ipynb",
      "provenance": [],
      "collapsed_sections": [],
      "mount_file_id": "1H8dYhLLkBMKQ-zyPKQvS6VUdV2ykRgjt",
      "authorship_tag": "ABX9TyMCrFl2uKOsBaYiS8nWOmP/",
      "include_colab_link": true
    },
    "kernelspec": {
      "name": "python3",
      "display_name": "Python 3"
    },
    "language_info": {
      "name": "python"
    }
  },
  "cells": [
    {
      "cell_type": "markdown",
      "metadata": {
        "id": "view-in-github",
        "colab_type": "text"
      },
      "source": [
        "<a href=\"https://colab.research.google.com/github/MhmadTomy/Cyberbullying/blob/main/scrapingfix.ipynb\" target=\"_parent\"><img src=\"https://colab.research.google.com/assets/colab-badge.svg\" alt=\"Open In Colab\"/></a>"
      ]
    },
    {
      "cell_type": "code",
      "metadata": {
        "colab": {
          "base_uri": "https://localhost:8080/"
        },
        "id": "ylU1UqkUlCmv",
        "outputId": "790817a8-7e5f-446f-b163-606b5cf35f89"
      },
      "source": [
        "from google.colab import drive\n",
        "drive.mount('/content/gdrive')"
      ],
      "execution_count": null,
      "outputs": [
        {
          "output_type": "stream",
          "text": [
            "Mounted at /content/gdrive\n"
          ],
          "name": "stdout"
        }
      ]
    },
    {
      "cell_type": "code",
      "metadata": {
        "id": "NXBcYYfN8_VP"
      },
      "source": [
        "import tweepy\n",
        "import csv"
      ],
      "execution_count": null,
      "outputs": []
    },
    {
      "cell_type": "code",
      "metadata": {
        "id": "tnxPsTjZ9Ap-"
      },
      "source": [
        "access_token=\"1174731135240114177-r5hk3nZQq3YoT4bJwmeUp6WZRMV3H6\"\n",
        "access_token_secret=\"crtYiRVN1acZiBP5Lxywfoowxia3gwYopfWJWUm1Ypw9D\"\n",
        "consumer_key=\"hrJLXgrRLf9npyn2rCwbN1r1u\"\n",
        "consumer_key_secret=\"ZY929CMz3rpTQydyZ259H40CUbB14xhcQpI1QXMniBDCjNNBvJ\""
      ],
      "execution_count": null,
      "outputs": []
    },
    {
      "cell_type": "code",
      "metadata": {
        "id": "w5wuToZI9ChG"
      },
      "source": [
        "auth = tweepy.OAuthHandler(consumer_key,consumer_key_secret)\n",
        "api = tweepy.API(auth, wait_on_rate_limit=True)"
      ],
      "execution_count": null,
      "outputs": []
    },
    {
      "cell_type": "code",
      "metadata": {
        "colab": {
          "base_uri": "https://localhost:8080/"
        },
        "id": "-IGYNrRkks5L",
        "outputId": "4cf88c72-9395-4f65-d832-eb8006726066"
      },
      "source": [
        "# Open/Create a file to append data\n",
        "csvFile = open('tes.csv', 'a', encoding='utf-8')\n",
        "csvWriter = csv.writer(csvFile)\n",
        "\n",
        "csvWriter.writerow(('user','timestamp','tweets'))"
      ],
      "execution_count": null,
      "outputs": [
        {
          "output_type": "execute_result",
          "data": {
            "text/plain": [
              "23"
            ]
          },
          "metadata": {
            "tags": []
          },
          "execution_count": 8
        }
      ]
    },
    {
      "cell_type": "code",
      "metadata": {
        "id": "bDiqQzzn9JHs"
      },
      "source": [
        "for tweet in tweepy.Cursor(api.search, q='mudik', tweet_mode='extended', \n",
        "                           count= 100, lang=\"id\", since='2021-05-20').items():\n",
        "    text = tweet.full_text\n",
        "    user = tweet.user.name\n",
        "    created = tweet.created_at\n",
        "    csvWriter.writerow([user, created, text.encode('utf-8')])\n",
        "csvWriter = csv.writer(csvFile)\n",
        "csvFile.close()\n"
      ],
      "execution_count": null,
      "outputs": []
    }
  ]
}